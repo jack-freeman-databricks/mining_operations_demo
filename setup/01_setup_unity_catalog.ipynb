{
 "cells": [
  {
   "cell_type": "markdown",
   "metadata": {},
   "source": "# Databricks notebook source\n\n # Unity Catalog Setup for Iron Ore Mining Operations\n \n This notebook sets up the Unity Catalog environment for storing iron ore mining operations data.\n \n ## What this notebook does:\n - Creates a Unity Catalog catalog\n - Creates a schema within the catalog\n - Creates a volume for storing parquet files\n - Sets up proper permissions and access controls"
  },
  {
   "cell_type": "code",
   "execution_count": null,
   "metadata": {},
   "outputs": [],
   "source": "from pyspark.sql.functions import current_timestamp\nimport logging\n\n# Configure logging\nlogging.basicConfig(level=logging.INFO)\nlogger = logging.getLogger(__name__)\n\n# Spark session is already available in Databricks"
  },
  {
   "cell_type": "code",
   "execution_count": null,
   "metadata": {},
   "outputs": [],
   "source": "# Configuration parameters\nCATALOG_NAME = \"mining_operations\"\nSCHEMA_NAME = \"production\"\nVOLUME_NAME = \"raw_data\"\n\nprint(f\"Setting up Unity Catalog with the following configuration:\")\nprint(f\"Catalog: {CATALOG_NAME}\")\nprint(f\"Schema: {SCHEMA_NAME}\")\nprint(f\"Volume: {VOLUME_NAME}\")"
  },
  {
   "cell_type": "code",
   "execution_count": null,
   "metadata": {},
   "outputs": [],
   "source": "# Create Unity Catalog catalog\ntry:\n    spark.sql(f\"CREATE CATALOG IF NOT EXISTS {CATALOG_NAME}\")\n    print(f\"✅ Successfully created catalog: {CATALOG_NAME}\")\nexcept Exception as e:\n    print(f\"⚠️  Catalog creation failed: {e}\")\n    print(\"Note: You may need appropriate permissions to create catalogs\")"
  },
  {
   "cell_type": "code",
   "execution_count": null,
   "metadata": {},
   "outputs": [],
   "source": "# Create schema within the catalog\ntry:\n    spark.sql(f\"CREATE SCHEMA IF NOT EXISTS {CATALOG_NAME}.{SCHEMA_NAME}\")\n    print(f\"✅ Successfully created schema: {CATALOG_NAME}.{SCHEMA_NAME}\")\nexcept Exception as e:\n    print(f\"⚠️  Schema creation failed: {e}\")\n    print(\"Note: You may need appropriate permissions to create schemas\")"
  },
  {
   "cell_type": "code",
   "execution_count": null,
   "metadata": {},
   "outputs": [],
   "source": "# Create volume for storing parquet files\ntry:\n    spark.sql(f\"CREATE VOLUME IF NOT EXISTS {CATALOG_NAME}.{SCHEMA_NAME}.{VOLUME_NAME}\")\n    print(f\"✅ Successfully created volume: {CATALOG_NAME}.{SCHEMA_NAME}.{VOLUME_NAME}\")\nexcept Exception as e:\n    print(f\"⚠️  Volume creation failed: {e}\")\n    print(\"Note: You may need appropriate permissions to create volumes\")"
  },
  {
   "cell_type": "code",
   "execution_count": null,
   "metadata": {},
   "outputs": [],
   "source": "# Verify the setup\nprint(\"\\n🔍 Verifying Unity Catalog setup...\")\n\n# List catalogs\ncatalogs = spark.sql(\"SHOW CATALOGS\").collect()\nprint(f\"Available catalogs: {[row.catalog for row in catalogs]}\")\n\n# List schemas in our catalog\nschemas = spark.sql(f\"SHOW SCHEMAS IN {CATALOG_NAME}\").collect()\nprint(f\"Schemas in {CATALOG_NAME}: {[row.schema for row in schemas]}\")\n\n# List volumes in our schema\nvolumes = spark.sql(f\"SHOW VOLUMES IN {CATALOG_NAME}.{SCHEMA_NAME}\").collect()\nprint(f\"Volumes in {CATALOG_NAME}.{SCHEMA_NAME}: {[row.volume for row in volumes]}\")"
  },
  {
   "cell_type": "code",
   "execution_count": null,
   "metadata": {},
   "outputs": [],
   "source": "# Set the current catalog and schema for subsequent operations\nspark.sql(f\"USE CATALOG {CATALOG_NAME}\")\nspark.sql(f\"USE SCHEMA {SCHEMA_NAME}\")\n\nprint(f\"✅ Current catalog: {CATALOG_NAME}\")\nprint(f\"✅ Current schema: {SCHEMA_NAME}\")\nprint(\"\\n🎉 Unity Catalog setup complete! Ready to proceed with data generation.\")"
  }
 ],
 "metadata": {
  "kernelspec": {
   "display_name": "Python 3",
   "language": "python",
   "name": "python3"
  },
  "language_info": {
   "codemirror_mode": {
    "name": "ipython",
    "version": 3
   },
   "file_extension": ".py",
   "mimetype": "text/x-python",
   "name": "python",
   "nbconvert_exporter": "python",
   "pygments_lexer": "python3",
   "version": "3.8.5"
  }
 },
 "nbformat": 4,
 "nbformat_minor": 4
}